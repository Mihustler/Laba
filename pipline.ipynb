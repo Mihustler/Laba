{
  "cells": [
    {
      "cell_type": "code",
      "execution_count": 2,
      "metadata": {
        "colab": {
          "base_uri": "https://localhost:8080/"
        },
        "id": "KXV7mS5xUZ6a",
        "outputId": "eb92c50a-f84d-4fe8-c379-62077ea9d084"
      },
      "outputs": [
        {
          "name": "stdout",
          "output_type": "stream",
          "text": [
            "Collecting xgboost\n",
            "  Downloading xgboost-3.0.0-py3-none-win_amd64.whl.metadata (2.1 kB)\n",
            "Collecting scikit-learn\n",
            "  Downloading scikit_learn-1.6.1-cp313-cp313-win_amd64.whl.metadata (15 kB)\n",
            "Collecting joblib\n",
            "  Downloading joblib-1.5.0-py3-none-any.whl.metadata (5.6 kB)\n",
            "Collecting pandas\n",
            "  Downloading pandas-2.2.3-cp313-cp313-win_amd64.whl.metadata (19 kB)\n",
            "Collecting numpy\n",
            "  Downloading numpy-2.2.5-cp313-cp313-win_amd64.whl.metadata (60 kB)\n",
            "Collecting fastapi\n",
            "  Downloading fastapi-0.115.12-py3-none-any.whl.metadata (27 kB)\n",
            "Collecting uvicorn\n",
            "  Downloading uvicorn-0.34.2-py3-none-any.whl.metadata (6.5 kB)\n",
            "Collecting pyngrok\n",
            "  Downloading pyngrok-7.2.7-py3-none-any.whl.metadata (9.4 kB)\n",
            "Collecting scipy (from xgboost)\n",
            "  Downloading scipy-1.15.3-cp313-cp313-win_amd64.whl.metadata (60 kB)\n",
            "Collecting threadpoolctl>=3.1.0 (from scikit-learn)\n",
            "  Downloading threadpoolctl-3.6.0-py3-none-any.whl.metadata (13 kB)\n",
            "Requirement already satisfied: python-dateutil>=2.8.2 in c:\\users\\prosh\\appdata\\roaming\\python\\python313\\site-packages (from pandas) (2.9.0.post0)\n",
            "Collecting pytz>=2020.1 (from pandas)\n",
            "  Downloading pytz-2025.2-py2.py3-none-any.whl.metadata (22 kB)\n",
            "Collecting tzdata>=2022.7 (from pandas)\n",
            "  Downloading tzdata-2025.2-py2.py3-none-any.whl.metadata (1.4 kB)\n",
            "Collecting starlette<0.47.0,>=0.40.0 (from fastapi)\n",
            "  Downloading starlette-0.46.2-py3-none-any.whl.metadata (6.2 kB)\n",
            "Collecting pydantic!=1.8,!=1.8.1,!=2.0.0,!=2.0.1,!=2.1.0,<3.0.0,>=1.7.4 (from fastapi)\n",
            "  Downloading pydantic-2.11.4-py3-none-any.whl.metadata (66 kB)\n",
            "Collecting typing-extensions>=4.8.0 (from fastapi)\n",
            "  Downloading typing_extensions-4.13.2-py3-none-any.whl.metadata (3.0 kB)\n",
            "Collecting click>=7.0 (from uvicorn)\n",
            "  Downloading click-8.1.8-py3-none-any.whl.metadata (2.3 kB)\n",
            "Collecting h11>=0.8 (from uvicorn)\n",
            "  Downloading h11-0.16.0-py3-none-any.whl.metadata (8.3 kB)\n",
            "Collecting PyYAML>=5.1 (from pyngrok)\n",
            "  Downloading PyYAML-6.0.2-cp313-cp313-win_amd64.whl.metadata (2.1 kB)\n",
            "Requirement already satisfied: colorama in c:\\users\\prosh\\appdata\\roaming\\python\\python313\\site-packages (from click>=7.0->uvicorn) (0.4.6)\n",
            "Collecting annotated-types>=0.6.0 (from pydantic!=1.8,!=1.8.1,!=2.0.0,!=2.0.1,!=2.1.0,<3.0.0,>=1.7.4->fastapi)\n",
            "  Downloading annotated_types-0.7.0-py3-none-any.whl.metadata (15 kB)\n",
            "Collecting pydantic-core==2.33.2 (from pydantic!=1.8,!=1.8.1,!=2.0.0,!=2.0.1,!=2.1.0,<3.0.0,>=1.7.4->fastapi)\n",
            "  Downloading pydantic_core-2.33.2-cp313-cp313-win_amd64.whl.metadata (6.9 kB)\n",
            "Collecting typing-inspection>=0.4.0 (from pydantic!=1.8,!=1.8.1,!=2.0.0,!=2.0.1,!=2.1.0,<3.0.0,>=1.7.4->fastapi)\n",
            "  Downloading typing_inspection-0.4.0-py3-none-any.whl.metadata (2.6 kB)\n",
            "Requirement already satisfied: six>=1.5 in c:\\users\\prosh\\appdata\\roaming\\python\\python313\\site-packages (from python-dateutil>=2.8.2->pandas) (1.17.0)\n",
            "Collecting anyio<5,>=3.6.2 (from starlette<0.47.0,>=0.40.0->fastapi)\n",
            "  Downloading anyio-4.9.0-py3-none-any.whl.metadata (4.7 kB)\n",
            "Collecting idna>=2.8 (from anyio<5,>=3.6.2->starlette<0.47.0,>=0.40.0->fastapi)\n",
            "  Downloading idna-3.10-py3-none-any.whl.metadata (10 kB)\n",
            "Collecting sniffio>=1.1 (from anyio<5,>=3.6.2->starlette<0.47.0,>=0.40.0->fastapi)\n",
            "  Downloading sniffio-1.3.1-py3-none-any.whl.metadata (3.9 kB)\n",
            "Downloading xgboost-3.0.0-py3-none-win_amd64.whl (150.0 MB)\n",
            "   ---------------------------------------- 0.0/150.0 MB ? eta -:--:--\n",
            "   - -------------------------------------- 4.5/150.0 MB 28.6 MB/s eta 0:00:06\n",
            "   -- ------------------------------------- 11.0/150.0 MB 30.3 MB/s eta 0:00:05\n",
            "   ---- ----------------------------------- 18.4/150.0 MB 32.1 MB/s eta 0:00:05\n",
            "   ------ --------------------------------- 23.9/150.0 MB 30.9 MB/s eta 0:00:05\n",
            "   ------ --------------------------------- 23.9/150.0 MB 30.9 MB/s eta 0:00:05\n",
            "   ------- -------------------------------- 27.5/150.0 MB 23.0 MB/s eta 0:00:06\n",
            "   -------- ------------------------------- 32.0/150.0 MB 22.7 MB/s eta 0:00:06\n",
            "   --------- ------------------------------ 35.4/150.0 MB 22.3 MB/s eta 0:00:06\n",
            "   ----------- ---------------------------- 43.3/150.0 MB 24.0 MB/s eta 0:00:05\n",
            "   ------------- -------------------------- 50.1/150.0 MB 24.9 MB/s eta 0:00:05\n",
            "   --------------- ------------------------ 56.9/150.0 MB 25.8 MB/s eta 0:00:04\n",
            "   ---------------- ----------------------- 63.2/150.0 MB 26.4 MB/s eta 0:00:04\n",
            "   ------------------ --------------------- 68.9/150.0 MB 26.2 MB/s eta 0:00:04\n",
            "   ------------------- -------------------- 73.7/150.0 MB 25.9 MB/s eta 0:00:03\n",
            "   -------------------- ------------------- 78.1/150.0 MB 25.6 MB/s eta 0:00:03\n",
            "   ---------------------- ----------------- 84.1/150.0 MB 25.8 MB/s eta 0:00:03\n",
            "   ----------------------- ---------------- 88.3/150.0 MB 25.5 MB/s eta 0:00:03\n",
            "   ------------------------ --------------- 93.1/150.0 MB 25.4 MB/s eta 0:00:03\n",
            "   ------------------------- -------------- 97.0/150.0 MB 25.2 MB/s eta 0:00:03\n",
            "   -------------------------- ------------ 101.4/150.0 MB 24.8 MB/s eta 0:00:02\n",
            "   --------------------------- ----------- 106.4/150.0 MB 24.9 MB/s eta 0:00:02\n",
            "   ---------------------------- ---------- 111.1/150.0 MB 24.7 MB/s eta 0:00:02\n",
            "   ------------------------------ -------- 116.1/150.0 MB 24.7 MB/s eta 0:00:02\n",
            "   ------------------------------- ------- 121.1/150.0 MB 24.8 MB/s eta 0:00:02\n",
            "   -------------------------------- ------ 125.6/150.0 MB 24.5 MB/s eta 0:00:01\n",
            "   --------------------------------- ----- 129.5/150.0 MB 24.3 MB/s eta 0:00:01\n",
            "   ---------------------------------- ---- 133.7/150.0 MB 24.2 MB/s eta 0:00:01\n",
            "   ----------------------------------- --- 137.4/150.0 MB 24.0 MB/s eta 0:00:01\n",
            "   ------------------------------------ -- 140.5/150.0 MB 23.7 MB/s eta 0:00:01\n",
            "   ------------------------------------- - 144.7/150.0 MB 23.6 MB/s eta 0:00:01\n",
            "   --------------------------------------  148.6/150.0 MB 23.5 MB/s eta 0:00:01\n",
            "   --------------------------------------- 150.0/150.0 MB 22.9 MB/s eta 0:00:00\n",
            "Downloading scikit_learn-1.6.1-cp313-cp313-win_amd64.whl (11.1 MB)\n",
            "   ---------------------------------------- 0.0/11.1 MB ? eta -:--:--\n",
            "   ------------- -------------------------- 3.7/11.1 MB 17.8 MB/s eta 0:00:01\n",
            "   ----------------------- ---------------- 6.6/11.1 MB 16.1 MB/s eta 0:00:01\n",
            "   ----------------------------------- ---- 9.7/11.1 MB 15.7 MB/s eta 0:00:01\n",
            "   ---------------------------------------- 11.1/11.1 MB 14.5 MB/s eta 0:00:00\n",
            "Downloading joblib-1.5.0-py3-none-any.whl (307 kB)\n",
            "Downloading pandas-2.2.3-cp313-cp313-win_amd64.whl (11.5 MB)\n",
            "   ---------------------------------------- 0.0/11.5 MB ? eta -:--:--\n",
            "   -------- ------------------------------- 2.4/11.5 MB 12.1 MB/s eta 0:00:01\n",
            "   ---------------- ----------------------- 4.7/11.5 MB 11.8 MB/s eta 0:00:01\n",
            "   ------------------------- -------------- 7.3/11.5 MB 12.1 MB/s eta 0:00:01\n",
            "   ------------------------------- -------- 9.2/11.5 MB 11.6 MB/s eta 0:00:01\n",
            "   ------------------------------------ --- 10.5/11.5 MB 10.4 MB/s eta 0:00:01\n",
            "   ---------------------------------------- 11.5/11.5 MB 10.1 MB/s eta 0:00:00\n",
            "Downloading numpy-2.2.5-cp313-cp313-win_amd64.whl (12.6 MB)\n",
            "   ---------------------------------------- 0.0/12.6 MB ? eta -:--:--\n",
            "   ---- ----------------------------------- 1.3/12.6 MB 6.4 MB/s eta 0:00:02\n",
            "   --------- ------------------------------ 3.1/12.6 MB 8.2 MB/s eta 0:00:02\n",
            "   ---------------- ----------------------- 5.2/12.6 MB 8.7 MB/s eta 0:00:01\n",
            "   ----------------------- ---------------- 7.3/12.6 MB 9.0 MB/s eta 0:00:01\n",
            "   ---------------------------- ----------- 8.9/12.6 MB 8.8 MB/s eta 0:00:01\n",
            "   ---------------------------------- ----- 10.7/12.6 MB 8.8 MB/s eta 0:00:01\n",
            "   -------------------------------------- - 12.3/12.6 MB 8.7 MB/s eta 0:00:01\n",
            "   ---------------------------------------- 12.6/12.6 MB 8.5 MB/s eta 0:00:00\n",
            "Downloading fastapi-0.115.12-py3-none-any.whl (95 kB)\n",
            "Downloading uvicorn-0.34.2-py3-none-any.whl (62 kB)\n",
            "Downloading pyngrok-7.2.7-py3-none-any.whl (23 kB)\n",
            "Downloading click-8.1.8-py3-none-any.whl (98 kB)\n",
            "Downloading h11-0.16.0-py3-none-any.whl (37 kB)\n",
            "Downloading pydantic-2.11.4-py3-none-any.whl (443 kB)\n",
            "Downloading pydantic_core-2.33.2-cp313-cp313-win_amd64.whl (2.0 MB)\n",
            "   ---------------------------------------- 0.0/2.0 MB ? eta -:--:--\n",
            "   ---------------------------------------- 2.0/2.0 MB 10.1 MB/s eta 0:00:00\n",
            "Downloading pytz-2025.2-py2.py3-none-any.whl (509 kB)\n",
            "Downloading PyYAML-6.0.2-cp313-cp313-win_amd64.whl (156 kB)\n",
            "Downloading scipy-1.15.3-cp313-cp313-win_amd64.whl (41.0 MB)\n",
            "   ---------------------------------------- 0.0/41.0 MB ? eta -:--:--\n",
            "   -- ------------------------------------- 2.4/41.0 MB 10.8 MB/s eta 0:00:04\n",
            "   ---- ----------------------------------- 4.2/41.0 MB 10.6 MB/s eta 0:00:04\n",
            "   ------ --------------------------------- 6.6/41.0 MB 10.6 MB/s eta 0:00:04\n",
            "   -------- ------------------------------- 8.4/41.0 MB 10.3 MB/s eta 0:00:04\n",
            "   ---------- ----------------------------- 10.7/41.0 MB 10.5 MB/s eta 0:00:03\n",
            "   ----------- ---------------------------- 12.1/41.0 MB 10.0 MB/s eta 0:00:03\n",
            "   ------------- -------------------------- 13.4/41.0 MB 9.4 MB/s eta 0:00:03\n",
            "   -------------- ------------------------- 14.7/41.0 MB 9.0 MB/s eta 0:00:03\n",
            "   --------------- ------------------------ 15.7/41.0 MB 8.5 MB/s eta 0:00:03\n",
            "   ---------------- ----------------------- 17.0/41.0 MB 8.3 MB/s eta 0:00:03\n",
            "   ----------------- ---------------------- 18.4/41.0 MB 8.2 MB/s eta 0:00:03\n",
            "   ------------------- -------------------- 19.7/41.0 MB 8.0 MB/s eta 0:00:03\n",
            "   -------------------- ------------------- 21.0/41.0 MB 7.9 MB/s eta 0:00:03\n",
            "   ---------------------- ----------------- 22.5/41.0 MB 7.9 MB/s eta 0:00:03\n",
            "   ---------------------- ----------------- 23.1/41.0 MB 7.9 MB/s eta 0:00:03\n",
            "   ------------------------- -------------- 26.0/41.0 MB 7.9 MB/s eta 0:00:02\n",
            "   -------------------------- ------------- 27.5/41.0 MB 7.9 MB/s eta 0:00:02\n",
            "   ---------------------------- ----------- 29.4/41.0 MB 7.9 MB/s eta 0:00:02\n",
            "   ------------------------------ --------- 31.2/41.0 MB 8.0 MB/s eta 0:00:02\n",
            "   ------------------------------- -------- 32.8/41.0 MB 8.0 MB/s eta 0:00:02\n",
            "   --------------------------------- ------ 34.1/41.0 MB 7.9 MB/s eta 0:00:01\n",
            "   ---------------------------------- ----- 35.1/41.0 MB 7.8 MB/s eta 0:00:01\n",
            "   ----------------------------------- ---- 36.2/41.0 MB 7.7 MB/s eta 0:00:01\n",
            "   ------------------------------------ --- 37.5/41.0 MB 7.6 MB/s eta 0:00:01\n",
            "   ------------------------------------- -- 38.8/41.0 MB 7.5 MB/s eta 0:00:01\n",
            "   ---------------------------------------  40.1/41.0 MB 7.5 MB/s eta 0:00:01\n",
            "   ---------------------------------------- 41.0/41.0 MB 7.4 MB/s eta 0:00:00\n",
            "Downloading starlette-0.46.2-py3-none-any.whl (72 kB)\n",
            "Downloading threadpoolctl-3.6.0-py3-none-any.whl (18 kB)\n",
            "Downloading typing_extensions-4.13.2-py3-none-any.whl (45 kB)\n",
            "Downloading tzdata-2025.2-py2.py3-none-any.whl (347 kB)\n",
            "Downloading annotated_types-0.7.0-py3-none-any.whl (13 kB)\n",
            "Downloading anyio-4.9.0-py3-none-any.whl (100 kB)\n",
            "Downloading typing_inspection-0.4.0-py3-none-any.whl (14 kB)\n",
            "Downloading idna-3.10-py3-none-any.whl (70 kB)\n",
            "Downloading sniffio-1.3.1-py3-none-any.whl (10 kB)\n",
            "Installing collected packages: pytz, tzdata, typing-extensions, threadpoolctl, sniffio, PyYAML, numpy, joblib, idna, h11, click, annotated-types, uvicorn, typing-inspection, scipy, pyngrok, pydantic-core, pandas, anyio, xgboost, starlette, scikit-learn, pydantic, fastapi\n",
            "Successfully installed PyYAML-6.0.2 annotated-types-0.7.0 anyio-4.9.0 click-8.1.8 fastapi-0.115.12 h11-0.16.0 idna-3.10 joblib-1.5.0 numpy-2.2.5 pandas-2.2.3 pydantic-2.11.4 pydantic-core-2.33.2 pyngrok-7.2.7 pytz-2025.2 scikit-learn-1.6.1 scipy-1.15.3 sniffio-1.3.1 starlette-0.46.2 threadpoolctl-3.6.0 typing-extensions-4.13.2 typing-inspection-0.4.0 tzdata-2025.2 uvicorn-0.34.2 xgboost-3.0.0\n",
            "Note: you may need to restart the kernel to use updated packages.\n"
          ]
        },
        {
          "name": "stderr",
          "output_type": "stream",
          "text": [
            "  WARNING: The scripts f2py.exe and numpy-config.exe are installed in 'c:\\Users\\prosh\\AppData\\Local\\Programs\\Python\\Python313\\Scripts' which is not on PATH.\n",
            "  Consider adding this directory to PATH or, if you prefer to suppress this warning, use --no-warn-script-location.\n",
            "  WARNING: The script uvicorn.exe is installed in 'c:\\Users\\prosh\\AppData\\Local\\Programs\\Python\\Python313\\Scripts' which is not on PATH.\n",
            "  Consider adding this directory to PATH or, if you prefer to suppress this warning, use --no-warn-script-location.\n",
            "  WARNING: The scripts ngrok.exe and pyngrok.exe are installed in 'c:\\Users\\prosh\\AppData\\Local\\Programs\\Python\\Python313\\Scripts' which is not on PATH.\n",
            "  Consider adding this directory to PATH or, if you prefer to suppress this warning, use --no-warn-script-location.\n",
            "  WARNING: The script fastapi.exe is installed in 'c:\\Users\\prosh\\AppData\\Local\\Programs\\Python\\Python313\\Scripts' which is not on PATH.\n",
            "  Consider adding this directory to PATH or, if you prefer to suppress this warning, use --no-warn-script-location.\n",
            "\n",
            "[notice] A new release of pip is available: 25.0.1 -> 25.1.1\n",
            "[notice] To update, run: python.exe -m pip install --upgrade pip\n"
          ]
        }
      ],
      "source": [
        "pip install xgboost scikit-learn joblib pandas numpy fastapi uvicorn pyngrok"
      ]
    },
    {
      "cell_type": "code",
      "execution_count": 3,
      "metadata": {
        "id": "Ndu9S1AWUYBN"
      },
      "outputs": [],
      "source": [
        "from sklearn.model_selection import train_test_split\n",
        "from sklearn.pipeline import Pipeline\n",
        "from sklearn.compose import ColumnTransformer\n",
        "from sklearn.preprocessing import StandardScaler, OneHotEncoder\n",
        "from sklearn.impute import SimpleImputer\n",
        "from xgboost import XGBRegressor\n",
        "from fastapi import FastAPI, UploadFile, File\n",
        "from io import BytesIO\n",
        "\n",
        "import pandas as pd\n",
        "import joblib"
      ]
    },
    {
      "cell_type": "code",
      "execution_count": 4,
      "metadata": {
        "id": "g2zaLdOhUYBP"
      },
      "outputs": [],
      "source": [
        "df = pd.read_csv('Laptop_price.csv')\n",
        "X = df.drop(columns=['Price'])\n",
        "y = df['Price']\n",
        "X_train, X_test, y_train, y_test = train_test_split(X, y, test_size=0.2, random_state=42)"
      ]
    },
    {
      "cell_type": "code",
      "execution_count": 5,
      "metadata": {
        "colab": {
          "base_uri": "https://localhost:8080/"
        },
        "id": "zKcw6LHYUYBP",
        "outputId": "6d5843da-7c76-43de-fb15-985da3e771a8"
      },
      "outputs": [
        {
          "data": {
            "text/plain": [
              "['laptop_price_model.pkl']"
            ]
          },
          "execution_count": 5,
          "metadata": {},
          "output_type": "execute_result"
        }
      ],
      "source": [
        "num_features = X.select_dtypes(include=['int64', 'float64']).columns.tolist()\n",
        "cat_features = X.select_dtypes(include=['object']).columns.tolist()\n",
        "num_transformer = Pipeline([\n",
        "    ('imputer', SimpleImputer(strategy='median')),\n",
        "    ('scaler', StandardScaler())\n",
        "])\n",
        "cat_transformer = Pipeline([\n",
        "        ('imputer', SimpleImputer(strategy='most_frequent')),\n",
        "        ('encoder', OneHotEncoder(handle_unknown='ignore'))\n",
        "])\n",
        "preprocessor = ColumnTransformer([\n",
        "    ('num', num_transformer, num_features),\n",
        "    ('cat', cat_transformer, cat_features)\n",
        "])\n",
        "pipeline = Pipeline([\n",
        "    ('preprocessor', preprocessor),\n",
        "   ('model', XGBRegressor(n_estimators=100, learning_rate=0.1, max_depth=5))\n",
        "])\n",
        "pipeline.fit(X_train, y_train)\n",
        "joblib.dump(pipeline, 'laptop_price_model.pkl')"
      ]
    },
    {
      "cell_type": "code",
      "execution_count": 12,
      "metadata": {
        "colab": {
          "base_uri": "https://localhost:8080/"
        },
        "id": "HGhTQEuKUYBQ",
        "outputId": "f368dd63-e622-4b38-d911-a6779cd3a1ff"
      },
      "outputs": [
        {
          "ename": "SyntaxError",
          "evalue": "invalid syntax (2830201818.py, line 1)",
          "output_type": "error",
          "traceback": [
            "  \u001b[36mCell\u001b[39m\u001b[36m \u001b[39m\u001b[32mIn[12]\u001b[39m\u001b[32m, line 1\u001b[39m\n\u001b[31m    \u001b[39m\u001b[31mgit init\u001b[39m\n        ^\n\u001b[31mSyntaxError\u001b[39m\u001b[31m:\u001b[39m invalid syntax\n"
          ]
        }
      ],
      "source": [
        "git init"
      ]
    },
    {
      "cell_type": "code",
      "execution_count": 7,
      "metadata": {
        "id": "NNKO_yoQUYBQ"
      },
      "outputs": [
        {
          "ename": "SyntaxError",
          "evalue": "invalid syntax (2350261775.py, line 1)",
          "output_type": "error",
          "traceback": [
            "  \u001b[36mCell\u001b[39m\u001b[36m \u001b[39m\u001b[32mIn[7]\u001b[39m\u001b[32m, line 1\u001b[39m\n\u001b[31m    \u001b[39m\u001b[31mgit add pipline.ipynb\u001b[39m\n        ^\n\u001b[31mSyntaxError\u001b[39m\u001b[31m:\u001b[39m invalid syntax\n"
          ]
        }
      ],
      "source": [
        "git add pipline.ipynb\n",
        "git add Laptop_price.csv"
      ]
    },
    {
      "cell_type": "code",
      "execution_count": 8,
      "metadata": {
        "colab": {
          "base_uri": "https://localhost:8080/"
        },
        "id": "JyJNxPqOUYBQ",
        "outputId": "cc42a356-3fd3-4e7d-8512-aa6faf83e4d3"
      },
      "outputs": [
        {
          "ename": "SyntaxError",
          "evalue": "invalid syntax (1543101008.py, line 1)",
          "output_type": "error",
          "traceback": [
            "  \u001b[36mCell\u001b[39m\u001b[36m \u001b[39m\u001b[32mIn[8]\u001b[39m\u001b[32m, line 1\u001b[39m\n\u001b[31m    \u001b[39m\u001b[31mgit commit -m \"Добавлен ML-пайплайн\"\u001b[39m\n        ^\n\u001b[31mSyntaxError\u001b[39m\u001b[31m:\u001b[39m invalid syntax\n"
          ]
        }
      ],
      "source": [
        "git commit -m \"Добавлен ML-пайплайн\""
      ]
    },
    {
      "cell_type": "code",
      "execution_count": 9,
      "metadata": {
        "colab": {
          "base_uri": "https://localhost:8080/"
        },
        "id": "6Zt-PyfDUYBR",
        "outputId": "7882d68d-41f6-4ecc-ac15-31ddc34cf3d9"
      },
      "outputs": [
        {
          "ename": "SyntaxError",
          "evalue": "invalid syntax (272946895.py, line 1)",
          "output_type": "error",
          "traceback": [
            "  \u001b[36mCell\u001b[39m\u001b[36m \u001b[39m\u001b[32mIn[9]\u001b[39m\u001b[32m, line 1\u001b[39m\n\u001b[31m    \u001b[39m\u001b[31mgit remote add origin https://github.com/Mihustler/Laba.git\u001b[39m\n        ^\n\u001b[31mSyntaxError\u001b[39m\u001b[31m:\u001b[39m invalid syntax\n"
          ]
        }
      ],
      "source": [
        "git remote add origin https://github.com/Mihustler/Laba.git"
      ]
    },
    {
      "cell_type": "code",
      "execution_count": 10,
      "metadata": {
        "colab": {
          "base_uri": "https://localhost:8080/"
        },
        "id": "QkXr13tAUYBR",
        "outputId": "6ff0b35e-84fe-4211-cec1-487b5cf2b6eb"
      },
      "outputs": [
        {
          "ename": "SyntaxError",
          "evalue": "invalid syntax (4261689527.py, line 1)",
          "output_type": "error",
          "traceback": [
            "  \u001b[36mCell\u001b[39m\u001b[36m \u001b[39m\u001b[32mIn[10]\u001b[39m\u001b[32m, line 1\u001b[39m\n\u001b[31m    \u001b[39m\u001b[31mgit push -u origin main\u001b[39m\n        ^\n\u001b[31mSyntaxError\u001b[39m\u001b[31m:\u001b[39m invalid syntax\n"
          ]
        }
      ],
      "source": [
        "git push -u origin main"
      ]
    },
    {
      "cell_type": "code",
      "execution_count": 11,
      "metadata": {
        "colab": {
          "base_uri": "https://localhost:8080/"
        },
        "id": "7_eiAyv6UYBR",
        "outputId": "c5099894-0272-4654-d25b-16fcb5c78e14"
      },
      "outputs": [
        {
          "name": "stdout",
          "output_type": "stream",
          "text": [
            "Writing app.py\n"
          ]
        }
      ],
      "source": [
        "%%writefile app.py\n",
        "\n",
        "app = FastAPI()\n",
        "\n",
        "# Загрузка обученной модели\n",
        "model_path = \"laptop_price_model.pkl\"\n",
        "model = joblib.load(model_path)\n",
        "\n",
        "@app.post(\"/predict/\")\n",
        "async def predict(file: UploadFile = File(...)):\n",
        "    content = await file.read()\n",
        "    df = pd.read_csv(BytesIO(content))\n",
        "    predictions = model.predict(df)\n",
        "    return {\"predictions\": predictions.tolist()}"
      ]
    },
    {
      "cell_type": "code",
      "execution_count": null,
      "metadata": {
        "id": "JZfzev6hUYBR"
      },
      "outputs": [],
      "source": [
        "\n",
        "\n"
      ]
    },
    {
      "cell_type": "code",
      "execution_count": null,
      "metadata": {
        "id": "1ikdTPRYUYBR"
      },
      "outputs": [],
      "source": []
    }
  ],
  "metadata": {
    "colab": {
      "provenance": []
    },
    "kernelspec": {
      "display_name": "Python 3",
      "language": "python",
      "name": "python3"
    },
    "language_info": {
      "codemirror_mode": {
        "name": "ipython",
        "version": 3
      },
      "file_extension": ".py",
      "mimetype": "text/x-python",
      "name": "python",
      "nbconvert_exporter": "python",
      "pygments_lexer": "ipython3",
      "version": "3.13.3"
    }
  },
  "nbformat": 4,
  "nbformat_minor": 0
}
